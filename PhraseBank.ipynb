{
 "cells": [
  {
   "cell_type": "code",
   "execution_count": 3,
   "metadata": {},
   "outputs": [],
   "source": [
    "import random\n",
    "\n",
    "class PhraseBank:\n",
    "\n",
    "  def __init__(self,fname):\n",
    "    self.phrases = {}\n",
    "    with open(fname) as f:\n",
    "      data = f.read().splitlines()\n",
    "    i = 0 \n",
    "    for line in data:\n",
    "      if line[i].startswith(\"**\"):\n",
    "         topic = line[i][2:]\n",
    "         self.phrases[topic] = []\n",
    "         i += 1\n",
    "      else: \n",
    "        self.phrases.append(line[i].upper())\n",
    "        \n",
    "\n",
    "  def next_phrase(self,topic):\n",
    "    i = random.randInt(0,len(self.phrases[topic]))\n",
    " \n",
    "  def get_topic(self):\n",
    "    pass\n",
    "\n",
    "  def set_topic(self,t):\n",
    "    pass\n",
    "\n",
    "  def get_all_topics(self):\n",
    "   return list(self.phrase.keys())"
   ]
  },
  {
   "cell_type": "code",
   "execution_count": 4,
   "metadata": {},
   "outputs": [
    {
     "ename": "FileNotFoundError",
     "evalue": "[Errno 2] No such file or directory: 'phrases.txt'",
     "output_type": "error",
     "traceback": [
      "\u001b[0;31m---------------------------------------------------------------------------\u001b[0m",
      "\u001b[0;31mFileNotFoundError\u001b[0m                         Traceback (most recent call last)",
      "\u001b[1;32m/Users/footn1/Documents/CS 1301/PhraseBank.ipynb Cell 2\u001b[0m line \u001b[0;36m1\n\u001b[0;32m----> <a href='vscode-notebook-cell:/Users/footn1/Documents/CS%201301/PhraseBank.ipynb#W1sZmlsZQ%3D%3D?line=0'>1</a>\u001b[0m pb \u001b[39m=\u001b[39m PhraseBank(\u001b[39m\"\u001b[39;49m\u001b[39mphrases.txt\u001b[39;49m\u001b[39m\"\u001b[39;49m)\n\u001b[1;32m      <a href='vscode-notebook-cell:/Users/footn1/Documents/CS%201301/PhraseBank.ipynb#W1sZmlsZQ%3D%3D?line=1'>2</a>\u001b[0m \u001b[39mprint\u001b[39m(pb\u001b[39m.\u001b[39mphrases)\n",
      "\u001b[1;32m/Users/footn1/Documents/CS 1301/PhraseBank.ipynb Cell 2\u001b[0m line \u001b[0;36m7\n\u001b[1;32m      <a href='vscode-notebook-cell:/Users/footn1/Documents/CS%201301/PhraseBank.ipynb#W1sZmlsZQ%3D%3D?line=4'>5</a>\u001b[0m \u001b[39mdef\u001b[39;00m \u001b[39m__init__\u001b[39m(\u001b[39mself\u001b[39m,fname):\n\u001b[1;32m      <a href='vscode-notebook-cell:/Users/footn1/Documents/CS%201301/PhraseBank.ipynb#W1sZmlsZQ%3D%3D?line=5'>6</a>\u001b[0m   \u001b[39mself\u001b[39m\u001b[39m.\u001b[39mphrases \u001b[39m=\u001b[39m {}\n\u001b[0;32m----> <a href='vscode-notebook-cell:/Users/footn1/Documents/CS%201301/PhraseBank.ipynb#W1sZmlsZQ%3D%3D?line=6'>7</a>\u001b[0m   \u001b[39mwith\u001b[39;00m \u001b[39mopen\u001b[39;49m(fname) \u001b[39mas\u001b[39;00m f:\n\u001b[1;32m      <a href='vscode-notebook-cell:/Users/footn1/Documents/CS%201301/PhraseBank.ipynb#W1sZmlsZQ%3D%3D?line=7'>8</a>\u001b[0m     data \u001b[39m=\u001b[39m f\u001b[39m.\u001b[39mread()\u001b[39m.\u001b[39msplitlines()\n\u001b[1;32m      <a href='vscode-notebook-cell:/Users/footn1/Documents/CS%201301/PhraseBank.ipynb#W1sZmlsZQ%3D%3D?line=8'>9</a>\u001b[0m   i \u001b[39m=\u001b[39m \u001b[39m0\u001b[39m \n",
      "File \u001b[0;32m~/Library/Python/3.11/lib/python/site-packages/IPython/core/interactiveshell.py:284\u001b[0m, in \u001b[0;36m_modified_open\u001b[0;34m(file, *args, **kwargs)\u001b[0m\n\u001b[1;32m    277\u001b[0m \u001b[39mif\u001b[39;00m file \u001b[39min\u001b[39;00m {\u001b[39m0\u001b[39m, \u001b[39m1\u001b[39m, \u001b[39m2\u001b[39m}:\n\u001b[1;32m    278\u001b[0m     \u001b[39mraise\u001b[39;00m \u001b[39mValueError\u001b[39;00m(\n\u001b[1;32m    279\u001b[0m         \u001b[39mf\u001b[39m\u001b[39m\"\u001b[39m\u001b[39mIPython won\u001b[39m\u001b[39m'\u001b[39m\u001b[39mt let you open fd=\u001b[39m\u001b[39m{\u001b[39;00mfile\u001b[39m}\u001b[39;00m\u001b[39m by default \u001b[39m\u001b[39m\"\u001b[39m\n\u001b[1;32m    280\u001b[0m         \u001b[39m\"\u001b[39m\u001b[39mas it is likely to crash IPython. If you know what you are doing, \u001b[39m\u001b[39m\"\u001b[39m\n\u001b[1;32m    281\u001b[0m         \u001b[39m\"\u001b[39m\u001b[39myou can use builtins\u001b[39m\u001b[39m'\u001b[39m\u001b[39m open.\u001b[39m\u001b[39m\"\u001b[39m\n\u001b[1;32m    282\u001b[0m     )\n\u001b[0;32m--> 284\u001b[0m \u001b[39mreturn\u001b[39;00m io_open(file, \u001b[39m*\u001b[39;49margs, \u001b[39m*\u001b[39;49m\u001b[39m*\u001b[39;49mkwargs)\n",
      "\u001b[0;31mFileNotFoundError\u001b[0m: [Errno 2] No such file or directory: 'phrases.txt'"
     ]
    }
   ],
   "source": [
    "pb = PhraseBank(\"phrases.txt\")\n",
    "print(pb.phrases)"
   ]
  },
  {
   "cell_type": "code",
   "execution_count": 18,
   "metadata": {},
   "outputs": [
    {
     "name": "stdout",
     "output_type": "stream",
     "text": [
      "['hello', 'bye', 'how', 'are', 'you']\n",
      "['bye', 'are', 'hello', 'you', 'how']\n"
     ]
    }
   ],
   "source": [
    "import random\n",
    "phrases =[\"hello\", \"bye\",\"how\",\"are\",\"you\"]\n",
    "print(phrases)\n",
    "random.shuffle(phrases)\n",
    "print(phrases)"
   ]
  }
 ],
 "metadata": {
  "kernelspec": {
   "display_name": "Python 3",
   "language": "python",
   "name": "python3"
  },
  "language_info": {
   "codemirror_mode": {
    "name": "ipython",
    "version": 3
   },
   "file_extension": ".py",
   "mimetype": "text/x-python",
   "name": "python",
   "nbconvert_exporter": "python",
   "pygments_lexer": "ipython3",
   "version": "3.11.5"
  }
 },
 "nbformat": 4,
 "nbformat_minor": 2
}
