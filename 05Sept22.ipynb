{
 "cells": [
  {
   "cell_type": "code",
   "execution_count": 1,
   "metadata": {},
   "outputs": [],
   "source": [
    "d = {\n",
    "    \"ATL\" : {\"wins\": 5, \"losses\": 3, \"ties\": 0},\n",
    "    \"CHC\" : {\"wins\": 7, \"losses\": 2, \"ties\": 1}\n",
    "}"
   ]
  },
  {
   "cell_type": "code",
   "execution_count": 3,
   "metadata": {},
   "outputs": [
    {
     "data": {
      "text/plain": [
       "5"
      ]
     },
     "execution_count": 3,
     "metadata": {},
     "output_type": "execute_result"
    }
   ],
   "source": [
    "d[\"ATL\"][\"wins\"]"
   ]
  },
  {
   "cell_type": "code",
   "execution_count": 4,
   "metadata": {},
   "outputs": [],
   "source": [
    "d[\"ATL\"][\"wins\"] = 6"
   ]
  },
  {
   "cell_type": "code",
   "execution_count": 5,
   "metadata": {},
   "outputs": [
    {
     "data": {
      "text/plain": [
       "{'ATL': {'wins': 6, 'losses': 3, 'ties': 0},\n",
       " 'CHC': {'wins': 7, 'losses': 2, 'ties': 1}}"
      ]
     },
     "execution_count": 5,
     "metadata": {},
     "output_type": "execute_result"
    }
   ],
   "source": [
    "d"
   ]
  },
  {
   "cell_type": "code",
   "execution_count": 7,
   "metadata": {},
   "outputs": [],
   "source": [
    "d[\"ATL\"][\"wins\"] = d[\"ATL\"][\"wins\"] + 1"
   ]
  },
  {
   "cell_type": "code",
   "execution_count": 8,
   "metadata": {},
   "outputs": [
    {
     "data": {
      "text/plain": [
       "{'ATL': {'wins': 7, 'losses': 3, 'ties': 0},\n",
       " 'CHC': {'wins': 7, 'losses': 2, 'ties': 1}}"
      ]
     },
     "execution_count": 8,
     "metadata": {},
     "output_type": "execute_result"
    }
   ],
   "source": [
    "d"
   ]
  },
  {
   "cell_type": "code",
   "execution_count": 6,
   "metadata": {},
   "outputs": [
    {
     "name": "stdout",
     "output_type": "stream",
     "text": [
      "6\n"
     ]
    }
   ],
   "source": [
    "x = 5\n",
    "x = x + 1\n",
    "print(x)"
   ]
  },
  {
   "cell_type": "code",
   "execution_count": null,
   "metadata": {},
   "outputs": [],
   "source": [
    "p1_str = \"4:3,2:1,-3:0\"  # string representation of polynomial\n",
    "p1_list = [(4,3),(2,3),-3,0]\n",
    "p1_dict = { 3: 4, 2: 3, -3: 0 }"
   ]
  },
  {
   "cell_type": "code",
   "execution_count": 14,
   "metadata": {},
   "outputs": [],
   "source": [
    "def convert_str_list(s):\n",
    "    pass\n",
    "\n",
    "def convert_list_str(xs):\n",
    "    pass\n",
    "\n",
    "# for example s = \"4:3,2:1,-3:0,10:3\"\n",
    "def convert_str_dict(s):\n",
    "    d = {}\n",
    "    xs = s.split(\",\")\n",
    "    for x in xs:\n",
    "        ys = x.split(\":\")\n",
    "        if int(ys[1]) not in d:\n",
    "            d[int(ys[1])] = int(ys[0])\n",
    "        else:\n",
    "            d[int(ys[1])] = d[int(ys[1])] + int(ys[0])\n",
    "    return d\n",
    "\n",
    "\n",
    "# 6 of these functions"
   ]
  },
  {
   "cell_type": "code",
   "execution_count": 15,
   "metadata": {},
   "outputs": [
    {
     "data": {
      "text/plain": [
       "{3: 74, 1: 2, 0: -3}"
      ]
     },
     "execution_count": 15,
     "metadata": {},
     "output_type": "execute_result"
    }
   ],
   "source": [
    "convert_str_dict(\"4:3,2:1,-3:0,10:3,20:3,40:3\")"
   ]
  }
 ],
 "metadata": {
  "kernelspec": {
   "display_name": "Python 3.10.6 64-bit",
   "language": "python",
   "name": "python3"
  },
  "language_info": {
   "codemirror_mode": {
    "name": "ipython",
    "version": 3
   },
   "file_extension": ".py",
   "mimetype": "text/x-python",
   "name": "python",
   "nbconvert_exporter": "python",
   "pygments_lexer": "ipython3",
   "version": "3.10.6"
  },
  "orig_nbformat": 4,
  "vscode": {
   "interpreter": {
    "hash": "aee8b7b246df8f9039afb4144a1f6fd8d2ca17a180786b69acc140d282b71a49"
   }
  }
 },
 "nbformat": 4,
 "nbformat_minor": 2
}
