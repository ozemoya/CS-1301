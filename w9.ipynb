{
 "cells": [
  {
   "cell_type": "code",
   "execution_count": null,
   "metadata": {},
   "outputs": [],
   "source": [
    "pc = 0\n",
    "registers[code[pc]['register1']]\n",
    "\n",
    "labels[code[pc]['labeldef']]"
   ]
  },
  {
   "cell_type": "code",
   "execution_count": null,
   "metadata": {},
   "outputs": [],
   "source": [
    "class Rational:\n",
    "\n",
    "    def __init__(self,n,d):\n",
    "        self.numerator = n\n",
    "        self.denominator = d\n",
    "        self.reduce()\n",
    "\n",
    "    def add(self,r):\n",
    "        num = self.numerator * r.denominator + self.deniminator * r.numerator\n",
    "        den = self.denominator * r.denominator\n",
    "        return Rational(num,den)\n",
    "    \n",
    "    # please write mul, div, minus methods\n",
    "\n",
    "    @staticmethod\n",
    "    def gcd(m,n): # assume m >= n\n",
    "        while n != 0:\n",
    "            r = m%n\n",
    "            m = n\n",
    "            n = r\n",
    "        return m\n",
    "\n",
    "    def reduce(self):\n",
    "        #if self.numerator > self.denominator:\n",
    "        #    g = gcd(self.numerator,self.denominator)\n",
    "        #else:\n",
    "        #    g = gcd(self.denominator,self.numerator)\n",
    "        g = Rational.gcd(self.numerator,self.denominator)\n",
    "        if g == 0:\n",
    "            return None\n",
    "        elif self.numerator < 0 and self.denominator < 0:\n",
    "            self.numerator = -self.numerator / g\n",
    "            self.denominator = -self.denominator / g\n",
    "        elif ... + num, - den\n",
    "        elif ... -num, + den\n",
    "        else: +num, +den \n",
    "\n",
    "\n",
    "    def __str__(self):  # should return string version of the object\n",
    "        return str(self.numerator) + \" / \" + str(self.denominator)\n"
   ]
  },
  {
   "cell_type": "code",
   "execution_count": null,
   "metadata": {},
   "outputs": [],
   "source": [
    "r1 = Rational(18,12)\n",
    "r2 = Rational(15,6)\n",
    "r3 = r1.add(r2)\n",
    "...\n",
    "...\n",
    "print(r3)"
   ]
  },
  {
   "cell_type": "code",
   "execution_count": 1,
   "metadata": {},
   "outputs": [],
   "source": [
    "code = [ {'labeldef': 'N0', 'opcode': 'CJMP', 'register1': 'R2', 'jmplabel': 'N1'}, \n",
    "         {'opcode': 'INC', 'register1': 'R1'}, \n",
    "         {'opcode': 'DEC', 'register1': 'R2'}, \n",
    "         {'opcode': 'UJMP', 'jmplabel': 'N0'}, \n",
    "         {'labeldef': 'N1', 'opcode': 'CONTINUE'}\n",
    "       ]"
   ]
  },
  {
   "cell_type": "code",
   "execution_count": 5,
   "metadata": {},
   "outputs": [],
   "source": [
    "def construct_labels_from_code(code):\n",
    "    labels = {}\n",
    "    for ino,ins in enumerate(code):\n",
    "        if \"labeldef\" in ins:\n",
    "            labels[ins[\"labeldef\"]] = ino\n",
    "    return labels"
   ]
  },
  {
   "cell_type": "code",
   "execution_count": 6,
   "metadata": {},
   "outputs": [
    {
     "data": {
      "text/plain": [
       "{'N0': 0, 'N1': 4}"
      ]
     },
     "execution_count": 6,
     "metadata": {},
     "output_type": "execute_result"
    }
   ],
   "source": [
    "construct_labels_from_code(code)"
   ]
  }
 ],
 "metadata": {
  "kernelspec": {
   "display_name": "Python 3.10.6 64-bit",
   "language": "python",
   "name": "python3"
  },
  "language_info": {
   "codemirror_mode": {
    "name": "ipython",
    "version": 3
   },
   "file_extension": ".py",
   "mimetype": "text/x-python",
   "name": "python",
   "nbconvert_exporter": "python",
   "pygments_lexer": "ipython3",
   "version": "3.10.6"
  },
  "orig_nbformat": 4,
  "vscode": {
   "interpreter": {
    "hash": "aee8b7b246df8f9039afb4144a1f6fd8d2ca17a180786b69acc140d282b71a49"
   }
  }
 },
 "nbformat": 4,
 "nbformat_minor": 2
}
