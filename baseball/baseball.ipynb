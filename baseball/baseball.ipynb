{
 "cells": [
  {
   "cell_type": "code",
   "execution_count": 20,
   "metadata": {},
   "outputs": [],
   "source": [
    "# teams = [('ATL', ('Atlanta Braves))]\n",
    "# games = [('2004-03-20' 'ARI' 'CHC',11,10)]"
   ]
  },
  {
   "cell_type": "code",
   "execution_count": 21,
   "metadata": {},
   "outputs": [],
   "source": [
    "import sys\n",
    "\n",
    "if len(sys.argv) > 1:\n",
    "    tname = sys.argv[1]\n",
    "    gname = sys.argv[1]\n",
    "\n",
    "else:\n",
    "    tname = \"teams.dat\"\n",
    "    gname = \"games.dat\""
   ]
  },
  {
   "cell_type": "code",
   "execution_count": 22,
   "metadata": {},
   "outputs": [
    {
     "data": {
      "text/plain": [
       "{'ATL': 'Atlanta Braves',\n",
       " 'STL': 'St. Louis Cardinals',\n",
       " 'CHC': 'Chicago Cubs',\n",
       " 'ARI': 'Arizona Diamondbacks',\n",
       " 'CLE': 'Cleveland Indians'}"
      ]
     },
     "execution_count": 22,
     "metadata": {},
     "output_type": "execute_result"
    }
   ],
   "source": [
    "def read_data(tname):\n",
    "    teams = {}\n",
    "    with open(tname, \"r\") as f:\n",
    "        for line in f:\n",
    "            full_name,codename = line.strip().split(':')\n",
    "            teams[codename] = full_name\n",
    "        data = f.read().splitlines()\n",
    "    return teams\n",
    "    return data\n",
    "read_data(\"teams.dat\")"
   ]
  },
  {
   "cell_type": "code",
   "execution_count": 28,
   "metadata": {},
   "outputs": [
    {
     "data": {
      "text/plain": [
       "[('2004-03-20', 'ARI', 'CHC', 10, 11),\n",
       " ('2004-03-23', 'ATL', 'STL', 0, 1),\n",
       " ('2004-03-27', 'STL', 'CHC', 7, 9),\n",
       " ('2004-03-27', 'CLE', 'ATL', 1, 0),\n",
       " ('2004-03-30', 'ATL', 'CHC', 10, 5),\n",
       " ('2004-04-01', 'CLE', 'ARI', 8, 8),\n",
       " ('2004-04-15', 'ARI', 'ATL', 3, 11),\n",
       " ('2004-04-17', 'CLE', 'STL', 7, 11),\n",
       " ('2004-04-20', 'STL', 'ARI', 10, 12),\n",
       " ('2004-04-22', 'CHC', 'CLE', 7, 4),\n",
       " ('2004-04-24', 'CHC', 'ARI', 7, 12),\n",
       " ('2004-04-29', 'STL', 'ATL', 2, 10),\n",
       " ('2004-05-01', 'ATL', 'CLE', 14, 14),\n",
       " ('2004-05-01', 'CHC', 'STL', 10, 0),\n",
       " ('2004-05-04', 'CHC', 'ATL', 10, 8),\n",
       " ('2004-05-04', 'ARI', 'CLE', 8, 7),\n",
       " ('2004-05-08', 'ATL', 'ARI', 6, 8),\n",
       " ('2004-05-13', 'STL', 'CLE', 3, 6),\n",
       " ('2004-05-15', 'ARI', 'STL', 7, 13),\n",
       " ('2004-05-15', 'CLE', 'CHC', 6, 8),\n",
       " ('2004-05-18', 'ARI', 'CHC', 13, 5),\n",
       " ('2004-05-22', 'ATL', 'STL', 3, 6)]"
      ]
     },
     "execution_count": 28,
     "metadata": {},
     "output_type": "execute_result"
    }
   ],
   "source": [
    "def read_data(gname):\n",
    "    games = []\n",
    "    with open(gname, \"r\") as f:\n",
    "        for line in f:\n",
    "            date, team1, team2, score1, score2 = line.strip().split(':')\n",
    "            games.append((date, team1, team2, int(score1), int(score2)))\n",
    "        data = f.read().splitlines()\n",
    "    return games\n",
    "    return data\n",
    "read_data(\"games.dat\")"
   ]
  },
  {
   "cell_type": "code",
   "execution_count": 4,
   "metadata": {},
   "outputs": [],
   "source": [
    "def get_standing(teams, games):\n",
    "    records = {teams:[0,0,0,0] for team in teams.keys()}\n",
    "    for _, team1, team2, score1, score2 in games:\n",
    "        if score1 > score2:\n",
    "            records[team1][0] += 1\n",
    "            records[team2][1] += 1\n",
    "        elif score1 < score2:\n",
    "            records[team1][1] += 1\n",
    "            records[team2][0] += 1\n",
    "        else:\n",
    "            records[team1][2] += 1\n",
    "            records[team2][2] += 1\n",
    "    "
   ]
  },
  {
   "cell_type": "code",
   "execution_count": 3,
   "metadata": {},
   "outputs": [],
   "source": []
  },
  {
   "cell_type": "code",
   "execution_count": null,
   "metadata": {},
   "outputs": [],
   "source": []
  }
 ],
 "metadata": {
  "kernelspec": {
   "display_name": "Python 3",
   "language": "python",
   "name": "python3"
  },
  "language_info": {
   "codemirror_mode": {
    "name": "ipython",
    "version": 3
   },
   "file_extension": ".py",
   "mimetype": "text/x-python",
   "name": "python",
   "nbconvert_exporter": "python",
   "pygments_lexer": "ipython3",
   "version": "3.11.5"
  },
  "orig_nbformat": 4
 },
 "nbformat": 4,
 "nbformat_minor": 2
}
