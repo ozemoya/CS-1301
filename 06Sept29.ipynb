{
 "cells": [
  {
   "cell_type": "code",
   "execution_count": 4,
   "metadata": {},
   "outputs": [
    {
     "data": {
      "text/plain": [
       "[10, 13, 16, 19]"
      ]
     },
     "execution_count": 4,
     "metadata": {},
     "output_type": "execute_result"
    }
   ],
   "source": [
    "list(range(10,20,3))"
   ]
  },
  {
   "cell_type": "code",
   "execution_count": 6,
   "metadata": {},
   "outputs": [
    {
     "name": "stdout",
     "output_type": "stream",
     "text": [
      "0 0\n",
      "0 1\n",
      "0 2\n",
      "0 3\n",
      "1 0\n",
      "1 1\n",
      "1 2\n",
      "1 3\n",
      "2 0\n",
      "2 1\n",
      "2 2\n",
      "2 3\n"
     ]
    }
   ],
   "source": [
    "for x in range(3):\n",
    "    for y in range(4):\n",
    "        print(x,y)"
   ]
  },
  {
   "cell_type": "code",
   "execution_count": 7,
   "metadata": {},
   "outputs": [
    {
     "name": "stdout",
     "output_type": "stream",
     "text": [
      "0 0\n",
      "0 1\n",
      "0 2\n",
      "0 3\n",
      "1 1\n",
      "1 2\n",
      "1 3\n",
      "2 2\n",
      "2 3\n"
     ]
    }
   ],
   "source": [
    "for x in range(3):\n",
    "    for y in range(x,4):\n",
    "        print(x,y)"
   ]
  },
  {
   "cell_type": "code",
   "execution_count": 8,
   "metadata": {},
   "outputs": [
    {
     "data": {
      "text/plain": [
       "{3: 14, 2: 8, 0: 6}"
      ]
     },
     "execution_count": 8,
     "metadata": {},
     "output_type": "execute_result"
    }
   ],
   "source": [
    "p1 = [(5,3),(8,2),(9,3),(6,0)]\n",
    "\n",
    "def list_to_dict(p):\n",
    "    result = {}\n",
    "    for x in p:\n",
    "        if x[1] in result:\n",
    "            result[x[1]] = result[x[1]] + x[0]\n",
    "        else:\n",
    "            result[x[1]] = x[0]\n",
    "    return result\n",
    "\n",
    "list_to_dict(p1)"
   ]
  },
  {
   "cell_type": "code",
   "execution_count": 9,
   "metadata": {},
   "outputs": [
    {
     "data": {
      "text/plain": [
       "[(14, 3), (8, 2), (6, 0)]"
      ]
     },
     "execution_count": 9,
     "metadata": {},
     "output_type": "execute_result"
    }
   ],
   "source": [
    "def dict_to_list(d):\n",
    "    result = []\n",
    "    for e in d:\n",
    "        result.append((d[e],e))\n",
    "    return result\n",
    "\n",
    "dict_to_list({3: 14, 2: 8, 0: 6})\n"
   ]
  },
  {
   "cell_type": "code",
   "execution_count": 1,
   "metadata": {},
   "outputs": [],
   "source": [
    "def file_string_to_list(s):\n",
    "    xs = s.split(\",\")\n",
    "    result = []\n",
    "    for y in xs:\n",
    "        z = y.split(\":\")\n",
    "        result.append((int(z[0]),int(z[1])))\n",
    "    return result"
   ]
  },
  {
   "cell_type": "code",
   "execution_count": 2,
   "metadata": {},
   "outputs": [
    {
     "data": {
      "text/plain": [
       "[(5, 3), (8, 2), (9, 3), (6, 0)]"
      ]
     },
     "execution_count": 2,
     "metadata": {},
     "output_type": "execute_result"
    }
   ],
   "source": [
    "file_string_to_list(\"5:3,8:2,9:3,6:0\")"
   ]
  },
  {
   "cell_type": "code",
   "execution_count": null,
   "metadata": {},
   "outputs": [],
   "source": [
    "with open(\"hello.txt\",\"w\") as f:\n",
    "    f.write(\"Hello, how are you?\\n\")\n",
    "    f.write(\"I am fine.\\n\")\n",
    "f.close()"
   ]
  }
 ],
 "metadata": {
  "kernelspec": {
   "display_name": "Python 3.10.6 64-bit",
   "language": "python",
   "name": "python3"
  },
  "language_info": {
   "codemirror_mode": {
    "name": "ipython",
    "version": 3
   },
   "file_extension": ".py",
   "mimetype": "text/x-python",
   "name": "python",
   "nbconvert_exporter": "python",
   "pygments_lexer": "ipython3",
   "version": "3.11.5"
  },
  "orig_nbformat": 4,
  "vscode": {
   "interpreter": {
    "hash": "aee8b7b246df8f9039afb4144a1f6fd8d2ca17a180786b69acc140d282b71a49"
   }
  }
 },
 "nbformat": 4,
 "nbformat_minor": 2
}
