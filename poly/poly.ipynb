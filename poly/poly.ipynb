{
 "cells": [
  {
   "cell_type": "code",
   "execution_count": 5,
   "metadata": {},
   "outputs": [],
   "source": [
    "import sys"
   ]
  },
  {
   "cell_type": "code",
   "execution_count": 25,
   "metadata": {},
   "outputs": [],
   "source": [
    "add = []\n",
    "subtract = []\n",
    "result=[]"
   ]
  },
  {
   "cell_type": "code",
   "execution_count": 30,
   "metadata": {},
   "outputs": [
    {
     "name": "stdout",
     "output_type": "stream",
     "text": [
      "['add -4:3,2:1,-3:0 9:4,8:3,4:2', 'mul 4:3,2:1,3:2,-3:0 9:4,8:3,4:2']\n"
     ]
    }
   ],
   "source": [
    "with open(\"poly.dat\", \"r\") as f:\n",
    "    for line in f:\n",
    "       data = f.read().splitlines()\n",
    "   \n",
    "f.close()\n",
    "print(data)\n",
    "     "
   ]
  },
  {
   "cell_type": "code",
   "execution_count": 32,
   "metadata": {},
   "outputs": [
    {
     "data": {
      "text/plain": [
       "['add -4:3,2:1,-3:0 9:4,8:3,4:2', 'mul 4:3,2:1,3:2,-3:0 9:4,8:3,4:2']"
      ]
     },
     "execution_count": 32,
     "metadata": {},
     "output_type": "execute_result"
    }
   ],
   "source": [
    "def read_data(fname):\n",
    "    with open(fname)  as f:\n",
    "      data = f.read().splitlines()\n",
    "      f.close()\n",
    "      return data\n",
    "read_data('poly.dat')"
   ]
  },
  {
   "cell_type": "code",
   "execution_count": 24,
   "metadata": {},
   "outputs": [
    {
     "name": "stdout",
     "output_type": "stream",
     "text": [
      "[' add -4:3,2:1,-3:0 9:4,8:3,4:2', 'mul 4:3,2:1,3:2,-3:0 9:4,8:3,4:2']\n"
     ]
    }
   ],
   "source": [
    "read_data(\"poly.dat\")"
   ]
  },
  {
   "cell_type": "code",
   "execution_count": 33,
   "metadata": {},
   "outputs": [
    {
     "data": {
      "text/plain": [
       "{3: 14, 2: 8, 0: 6}"
      ]
     },
     "execution_count": 33,
     "metadata": {},
     "output_type": "execute_result"
    }
   ],
   "source": [
    "p1 = [(5,3),(8,2),(9,3),(6,0)]\n",
    "\n",
    "def list_to_dict(p):\n",
    "    result = {}\n",
    "    for x in p:\n",
    "        if x[1] in result:\n",
    "            result[x[1]] = result[x[1]] + x[0]\n",
    "        else:\n",
    "            result[x[1]] = x[0]\n",
    "    return result\n",
    "\n",
    "list_to_dict(p1)"
   ]
  },
  {
   "cell_type": "code",
   "execution_count": 3,
   "metadata": {},
   "outputs": [
    {
     "data": {
      "text/plain": [
       "[('add', '-4:3,2:1,-3:0 9:4,8:3,4:2'), ('mul', '4:3,2:1,3:2,-3:0 9:4,8:3,4:2')]"
      ]
     },
     "execution_count": 3,
     "metadata": {},
     "output_type": "execute_result"
    }
   ],
   "source": [
    "def read_data(fname):\n",
    "    with open(fname) as f:\n",
    "        lines = f.readlines()\n",
    "    operations_and_data = []\n",
    "    for line in lines:\n",
    "        operation, data = line.split(' ', 1)\n",
    "        operations_and_data.append((operation, data.strip()))\n",
    "    return operations_and_data\n",
    "read_data('poly.dat')"
   ]
  },
  {
   "cell_type": "code",
   "execution_count": 14,
   "metadata": {},
   "outputs": [],
   "source": [
    "\n",
    "def to_dict(poly_str):\n",
    "    poly_dict={}\n",
    "    for term in poly_str.split(','):\n",
    "        coeff,exp = term.split(':')\n",
    "        poly_dict[int(exp)] = int(coeff)\n",
    "    return poly_dict\n"
   ]
  },
  {
   "cell_type": "code",
   "execution_count": null,
   "metadata": {},
   "outputs": [],
   "source": [
    "def add_dicts(dict1, dict2):\n",
    "    result = dict1.copy()\n",
    "    for key, value in dict2.items():\n",
    "        if key in result:\n",
    "            result[key] += value\n",
    "        else:\n",
    "            result[key] = value\n",
    "    return result"
   ]
  }
 ],
 "metadata": {
  "kernelspec": {
   "display_name": "Python 3",
   "language": "python",
   "name": "python3"
  },
  "language_info": {
   "codemirror_mode": {
    "name": "ipython",
    "version": 3
   },
   "file_extension": ".py",
   "mimetype": "text/x-python",
   "name": "python",
   "nbconvert_exporter": "python",
   "pygments_lexer": "ipython3",
   "version": "3.11.5"
  },
  "orig_nbformat": 4
 },
 "nbformat": 4,
 "nbformat_minor": 2
}
