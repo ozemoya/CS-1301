{
 "cells": [
  {
   "cell_type": "code",
   "execution_count": 14,
   "metadata": {},
   "outputs": [
    {
     "name": "stdout",
     "output_type": "stream",
     "text": [
      "Ramona\n",
      "['_', '_', '_', '_', '_', '_']\n"
     ]
    }
   ],
   "source": [
    "import random\n",
    "#Step 1 \n",
    "\n",
    "word_list = [\"Scott\", \"Ramona\", \"Julie\", \"Wallace\", \"Stacey\",\"Knives\", \"Kim\"]\n",
    "display = []\n",
    "\n",
    "#TODO-1 - Randomly choose a word from the word_list and assign it to a variable called chosen_word.\n",
    "chosen_word = random.choice(word_list)\n",
    "word_length = len(str(chosen_word))\n",
    "print(chosen_word)\n",
    "for x in range(word_length):\n",
    "    display += '_'\n",
    "print(display)\n"
   ]
  },
  {
   "cell_type": "code",
   "execution_count": 16,
   "metadata": {},
   "outputs": [
    {
     "name": "stdout",
     "output_type": "stream",
     "text": [
      "['r', 'a', 'm', 'o', 'n', 'a']\n",
      "You win.\n",
      "You guessed r, that's not in the word. You lose a life.\n",
      "2\n"
     ]
    }
   ],
   "source": [
    "#TODO-2 - Ask the user to guess a letter and assign their answer to a variable called guess. Make guess lowercase.\n",
    "#TODO-3 - Check if the letter the user guessed (guess) is one of the letters in the chosen_word.\n",
    "end_of_game = False\n",
    "while end_of_game == False:\n",
    "    guess = input(\"Guess a letter: \").lower()\n",
    "    for index in range(word_length):\n",
    "        letter=chosen_word[index].lower()\n",
    "        if letter == guess:\n",
    "           display[index] = letter\n",
    "    \n",
    "    print(display)\n",
    "\n",
    "\n",
    "\n",
    "\n",
    "    if \"_\" not in display:\n",
    "        end_of_game = True\n",
    "        print(\"You win.\")\n",
    "\n",
    "lives = 3\n",
    "if guess not in chosen_word:\n",
    "        lives -= 1\n",
    "        print(f\"You guessed {guess}, that's not in the word. You lose a life.\")\n",
    "        if lives == 0:\n",
    "            end_of_game = True\n",
    "            print(\"You lose.\")\n",
    "\n",
    "print(lives)"
   ]
  }
 ],
 "metadata": {
  "kernelspec": {
   "display_name": "Python 3",
   "language": "python",
   "name": "python3"
  },
  "language_info": {
   "codemirror_mode": {
    "name": "ipython",
    "version": 3
   },
   "file_extension": ".py",
   "mimetype": "text/x-python",
   "name": "python",
   "nbconvert_exporter": "python",
   "pygments_lexer": "ipython3",
   "version": "3.11.5"
  }
 },
 "nbformat": 4,
 "nbformat_minor": 2
}
