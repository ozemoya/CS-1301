{
 "cells": [
  {
   "cell_type": "code",
   "execution_count": 6,
   "metadata": {},
   "outputs": [
    {
     "name": "stdout",
     "output_type": "stream",
     "text": [
      "Please insert your name\n",
      "Welcome Enter\n"
     ]
    }
   ],
   "source": [
    "print(\"Please insert your name\")\n",
    "name = input()\n",
    "print(\"Welcome\", name)"
   ]
  },
  {
   "cell_type": "code",
   "execution_count": 7,
   "metadata": {},
   "outputs": [
    {
     "name": "stdout",
     "output_type": "stream",
     "text": [
      "Enter your Wage, Weeks, and Hours\n"
     ]
    },
    {
     "ename": "ValueError",
     "evalue": "invalid literal for int() with base 10: 'Enter'",
     "output_type": "error",
     "traceback": [
      "\u001b[0;31m---------------------------------------------------------------------------\u001b[0m",
      "\u001b[0;31mValueError\u001b[0m                                Traceback (most recent call last)",
      "Cell \u001b[0;32mIn[7], line 2\u001b[0m\n\u001b[1;32m      1\u001b[0m \u001b[39mprint\u001b[39m (\u001b[39m\"\u001b[39m\u001b[39mEnter your Wage, Weeks, and Hours\u001b[39m\u001b[39m\"\u001b[39m)\n\u001b[0;32m----> 2\u001b[0m wage \u001b[39m=\u001b[39m \u001b[39mint\u001b[39;49m(\u001b[39minput\u001b[39;49m())\n\u001b[1;32m      3\u001b[0m weeks \u001b[39m=\u001b[39m \u001b[39mint\u001b[39m(\u001b[39minput\u001b[39m())\n\u001b[1;32m      4\u001b[0m hours \u001b[39m=\u001b[39m \u001b[39mint\u001b[39m(\u001b[39minput\u001b[39m())\n",
      "\u001b[0;31mValueError\u001b[0m: invalid literal for int() with base 10: 'Enter'"
     ]
    }
   ],
   "source": [
    "print (\"Enter your Wage, Weeks, and Hours\")\n",
    "wage = int(input())\n",
    "weeks = int(input())\n",
    "hours = int(input())\n",
    "print (\"My wage is\", wage, \"my weeks are\", weeks, \"my wage is\", hours)\n",
    "anincome = wage*weeks*hours\n",
    "print(\"My annual income is\", anincome)"
   ]
  },
  {
   "cell_type": "code",
   "execution_count": null,
   "metadata": {},
   "outputs": [],
   "source": [
    "x,y = 3,4"
   ]
  },
  {
   "cell_type": "code",
   "execution_count": null,
   "metadata": {},
   "outputs": [],
   "source": [
    "import math\n",
    "num = 49 \n",
    "num_sqrt = math.sqrt(num)"
   ]
  },
  {
   "cell_type": "code",
   "execution_count": null,
   "metadata": {},
   "outputs": [
    {
     "name": "stdout",
     "output_type": "stream",
     "text": [
      "0.7658421621773265\n",
      "0.2857791189608404\n",
      "3\n"
     ]
    }
   ],
   "source": [
    "import random \n",
    "print(random.random())\n",
    "print(random.random())\n",
    "print(random.randrange(10))"
   ]
  },
  {
   "cell_type": "code",
   "execution_count": null,
   "metadata": {},
   "outputs": [
    {
     "name": "stdout",
     "output_type": "stream",
     "text": [
      "\\home\\users\\\n"
     ]
    }
   ],
   "source": [
    "print('\\\\home\\\\users\\\\')"
   ]
  },
  {
   "cell_type": "code",
   "execution_count": 10,
   "metadata": {},
   "outputs": [],
   "source": [
    "my_string = (\"Mihawk is a fraud \\n 'Fraudhawk'\")"
   ]
  },
  {
   "cell_type": "code",
   "execution_count": 1,
   "metadata": {},
   "outputs": [
    {
     "ename": "NameError",
     "evalue": "name 'x' is not defined",
     "output_type": "error",
     "traceback": [
      "\u001b[0;31m---------------------------------------------------------------------------\u001b[0m",
      "\u001b[0;31mNameError\u001b[0m                                 Traceback (most recent call last)",
      "Cell \u001b[0;32mIn[1], line 1\u001b[0m\n\u001b[0;32m----> 1\u001b[0m x\n",
      "\u001b[0;31mNameError\u001b[0m: name 'x' is not defined"
     ]
    }
   ],
   "source": [
    "x"
   ]
  },
  {
   "cell_type": "code",
   "execution_count": 2,
   "metadata": {},
   "outputs": [],
   "source": [
    "s1 = 'abc'\n",
    "s2 = \"674\""
   ]
  },
  {
   "cell_type": "code",
   "execution_count": 5,
   "metadata": {},
   "outputs": [],
   "source": [
    "s4 = (s1+s2)"
   ]
  },
  {
   "cell_type": "code",
   "execution_count": 3,
   "metadata": {},
   "outputs": [
    {
     "name": "stdout",
     "output_type": "stream",
     "text": [
      "[30, 'abc', 1]\n",
      "[30, 'abc', 1, 'ooo']\n",
      "['abc', 1, 'ooo']\n"
     ]
    }
   ],
   "source": [
    "myList = [20,'abc', 1]\n",
    "myList[0] = 30\n",
    "print(myList)\n",
    "myList.append('ooo')\n",
    "print(myList)\n",
    "myList.remove(30)\n",
    "print(myList)"
   ]
  },
  {
   "cell_type": "code",
   "execution_count": 6,
   "metadata": {},
   "outputs": [
    {
     "name": "stdout",
     "output_type": "stream",
     "text": [
      "['abc', 1, 'ooo']\n",
      "['abc', 1, 'ooo', 'ooo']\n",
      "[30, 'abc', 1, 'kk', 100]\n",
      "abc\n"
     ]
    }
   ],
   "source": [
    "list1 = [20,'abc', 1]\n",
    "list1[0] = 30\n",
    "print(myList)\n",
    "myList.append('ooo')\n",
    "print(myList)\n",
    "list2 =['kk', 100]\n",
    "print(list1 + list2)\n",
    "list3 = ['abc','xyz','klm']\n",
    "print(min(list3))\n"
   ]
  },
  {
   "cell_type": "code",
   "execution_count": 7,
   "metadata": {},
   "outputs": [
    {
     "name": "stdout",
     "output_type": "stream",
     "text": [
      "cherry\n"
     ]
    }
   ],
   "source": [
    "thistuple = (\"apple\", \"banana\", \"cherry\")\n",
    "print(thistuple[-1])"
   ]
  },
  {
   "cell_type": "code",
   "execution_count": 8,
   "metadata": {},
   "outputs": [
    {
     "name": "stdout",
     "output_type": "stream",
     "text": [
      "cherry\n"
     ]
    }
   ],
   "source": [
    "thistuple = (\"apple\", \"banana\", \"cherry\")\n",
    "print(thistuple[-1])"
   ]
  },
  {
   "cell_type": "code",
   "execution_count": 9,
   "metadata": {},
   "outputs": [
    {
     "name": "stdout",
     "output_type": "stream",
     "text": [
      "('cherry', 'orange', 'kiwi')\n"
     ]
    }
   ],
   "source": [
    "thistuple = (\"apple\", \"banana\", \"cherry\", \"orange\", \"kiwi\",\"melon\",\"mango\")\n",
    "print(thistuple[2:5])"
   ]
  },
  {
   "cell_type": "code",
   "execution_count": 11,
   "metadata": {},
   "outputs": [
    {
     "name": "stdout",
     "output_type": "stream",
     "text": [
      "<class 'str'>\n"
     ]
    }
   ],
   "source": [
    "thistuple = ('apple')\n",
    "print(type(thistuple))"
   ]
  },
  {
   "cell_type": "code",
   "execution_count": 10,
   "metadata": {},
   "outputs": [
    {
     "name": "stdout",
     "output_type": "stream",
     "text": [
      "<class 'tuple'>\n"
     ]
    }
   ],
   "source": [
    "thistuple = (100,)\n",
    "print(type(thistuple))"
   ]
  },
  {
   "cell_type": "code",
   "execution_count": 13,
   "metadata": {},
   "outputs": [
    {
     "name": "stdout",
     "output_type": "stream",
     "text": [
      "<class 'set'>\n"
     ]
    }
   ],
   "source": [
    "set1=set()\n",
    "print(type(set1))"
   ]
  },
  {
   "cell_type": "code",
   "execution_count": 14,
   "metadata": {},
   "outputs": [
    {
     "name": "stdout",
     "output_type": "stream",
     "text": [
      "{1, 2, 3}\n",
      "{8, 9, 7}\n"
     ]
    }
   ],
   "source": [
    "# Create a set using the set() function.\n",
    "nums1 = set([1, 2, 3])\n",
    "\n",
    "# Create a set using a set literal.\n",
    "nums2 = { 7, 8, 9 }\n",
    "\n",
    "# Print the contents of the sets.\n",
    "print(nums1)\n",
    "print(nums2)"
   ]
  },
  {
   "cell_type": "code",
   "execution_count": null,
   "metadata": {},
   "outputs": [],
   "source": [
    "# Create sets\n",
    "names1 = {'Pedro', 'Khan', 'Dean'}\n",
    "names2 = {'Emilia', 'Kara', 'Tia'}\n",
    "\n",
    "# Add element to set\n",
    "names1.add('Hyungu')\n",
    "\n",
    "# Add names2 to names1\n",
    "names1.update(names2)\n",
    "\n",
    "# Remove element from set\n",
    "names1.remove('Dean')\n",
    "\n",
    "# Clear all elements from set\n",
    "names2.clear()"
   ]
  },
  {
   "cell_type": "code",
   "execution_count": 15,
   "metadata": {},
   "outputs": [
    {
     "name": "stdout",
     "output_type": "stream",
     "text": [
      "{'Lionel Messi': 10, 'Cristiano Ronaldo': 7}\n"
     ]
    }
   ],
   "source": [
    "players = {\n",
    "    'Lionel Messi': 10,\n",
    "    'Cristiano Ronaldo': 7\n",
    "}\n",
    "\n",
    "print(players)"
   ]
  },
  {
   "cell_type": "code",
   "execution_count": 18,
   "metadata": {},
   "outputs": [
    {
     "name": "stdout",
     "output_type": "stream",
     "text": [
      "{'banana': 1.49}\n",
      "{'banana': 1.69}\n",
      "{}\n"
     ]
    }
   ],
   "source": [
    "prices = {}  # Create empty dictionary\n",
    "prices['banana'] = 1.49  # Add new entry\n",
    "print(prices)\n",
    "\n",
    "prices['banana'] = 1.69  # Modify entry\n",
    "print(prices)\n",
    "\n",
    "del prices['banana']  # Remove entry\n",
    "print(prices)"
   ]
  },
  {
   "cell_type": "code",
   "execution_count": 22,
   "metadata": {},
   "outputs": [
    {
     "name": "stdout",
     "output_type": "stream",
     "text": [
      "<class 'set'>\n"
     ]
    }
   ],
   "source": [
    "a = {}\n",
    "b = set()\n",
    "2 * 10^2\n",
    "print(type(b))"
   ]
  },
  {
   "cell_type": "code",
   "execution_count": 24,
   "metadata": {},
   "outputs": [
    {
     "name": "stdout",
     "output_type": "stream",
     "text": [
      "My name is John and I am 30 years old.\n"
     ]
    }
   ],
   "source": [
    "name = \"John\"\n",
    "age = 30\n",
    "print(f\"My name is {name} and I am {age} years old.\")\n"
   ]
  },
  {
   "cell_type": "code",
   "execution_count": 23,
   "metadata": {},
   "outputs": [
    {
     "name": "stdout",
     "output_type": "stream",
     "text": [
      "Five plus ten is 15 and not 30.\n"
     ]
    }
   ],
   "source": [
    "a = 5\n",
    "b = 10\n",
    "print(f\"Five plus ten is {a + b} and not {2 * (a + b)}.\")"
   ]
  },
  {
   "cell_type": "code",
   "execution_count": 25,
   "metadata": {},
   "outputs": [
    {
     "name": "stdout",
     "output_type": "stream",
     "text": [
      "Pi rounded to 2 decimal places is 3.14.\n"
     ]
    }
   ],
   "source": [
    "pi = 3.141592653589793\n",
    "print(f\"Pi rounded to 2 decimal places is {pi:.2f}.\")"
   ]
  },
  {
   "cell_type": "code",
   "execution_count": null,
   "metadata": {},
   "outputs": [],
   "source": [
    "from datetime import datetime\n",
    "today = datetime.today()\n",
    "print(f\"Today's date is {today:%B %d, %Y}.\")"
   ]
  },
  {
   "cell_type": "code",
   "execution_count": 2,
   "metadata": {},
   "outputs": [
    {
     "name": "stdout",
     "output_type": "stream",
     "text": [
      "b is NOT greater than a\n"
     ]
    }
   ],
   "source": [
    "a, b = 70, 36\n",
    "if b > a:\n",
    " print('b is greater than a')\n",
    "else:\n",
    " print('b is NOT greater than a')\n",
    " "
   ]
  },
  {
   "cell_type": "code",
   "execution_count": 3,
   "metadata": {},
   "outputs": [
    {
     "name": "stdout",
     "output_type": "stream",
     "text": [
      "b is NOT equal\n"
     ]
    }
   ],
   "source": [
    "a, b = 33,200\n",
    "if b!= a:\n",
    "  print(\"b is NOT equal\")\n",
    "else:\n",
    "   print(\"b is equal\")"
   ]
  },
  {
   "cell_type": "code",
   "execution_count": 10,
   "metadata": {},
   "outputs": [
    {
     "name": "stdout",
     "output_type": "stream",
     "text": [
      "You're not a fraud\n"
     ]
    }
   ],
   "source": [
    "Admiral = \"fraud\"\n",
    "if Admiral == \"Kizaru\":\n",
    "    print(\"Im telling the Gorosei\")\n",
    "else: \n",
    "    print(\"You're not a fraud\")\n",
    "\n"
   ]
  },
  {
   "cell_type": "code",
   "execution_count": null,
   "metadata": {},
   "outputs": [],
   "source": [
    "flag = True\n",
    "if flag != True:\n",
    "   print(\"Hello\")\n",
    "else:\n",
    "   print(\"Bye\")"
   ]
  },
  {
   "cell_type": "markdown",
   "metadata": {},
   "source": [
    "# Membership Operators"
   ]
  },
  {
   "cell_type": "code",
   "execution_count": 12,
   "metadata": {},
   "outputs": [
    {
     "name": "stdout",
     "output_type": "stream",
     "text": [
      "Could not find hi on the roster.\n"
     ]
    }
   ],
   "source": [
    "# Membership Operators\n",
    "# Use the \"in\" operator\n",
    "barcelona_fc_roster = ['Alves', 'Messi', 'Fabregas']\n",
    "name = input('Enter name to check: ')\n",
    "if name in barcelona_fc_roster:\n",
    "    print(f'Found {name} on the roster.')\n",
    "else:\n",
    "    print(f'Could not find {name} on the roster.')"
   ]
  },
  {
   "cell_type": "code",
   "execution_count": 2,
   "metadata": {},
   "outputs": [
    {
     "name": "stdout",
     "output_type": "stream",
     "text": [
      "Could not find michelle on the roster.\n"
     ]
    }
   ],
   "source": [
    "# Use the \"not in\" operator\n",
    "barcelona_fc_roster = ['Alves', 'Messi', 'Fabregas']\n",
    "name = input('Enter name to check: ')\n",
    "if name not in barcelona_fc_roster:\n",
    "    print(f'Could not find {name} on the roster.')\n",
    "else:\n",
    "    print(f'Found {name} on the roster.')"
   ]
  },
  {
   "cell_type": "code",
   "execution_count": 10,
   "metadata": {},
   "outputs": [
    {
     "name": "stdout",
     "output_type": "stream",
     "text": [
      "Law was not found on the roster\n"
     ]
    }
   ],
   "source": [
    "strawhats = [\"Luffy\",\"Zoro\",\"Sanji\",\"Usopp\", \"Nami\",\"Chopper\",\"Robin\",\"Franky\",\"Brook\", \"Jinbei\"]\n",
    "name = input('Enter a Strawhat')\n",
    "if name in strawhats:\n",
    "    print(f'Found {name} on the Strawhat crew')\n",
    "else:\n",
    "    print(f'{name} was not found on the Strawhat crew')"
   ]
  },
  {
   "cell_type": "markdown",
   "metadata": {},
   "source": [
    "# Detecting ranges using logical operators"
   ]
  },
  {
   "cell_type": "code",
   "execution_count": 13,
   "metadata": {},
   "outputs": [
    {
     "name": "stdout",
     "output_type": "stream",
     "text": [
      "30\n"
     ]
    }
   ],
   "source": [
    "x = 30\n",
    "if x < 0 :\n",
    "    print(\"x is negative\")\n",
    "elif (x > 10) and (x < 15) :\n",
    "    print(\"10 to 15\")\n",
    "elif (x >= 14) and (x < 30) :\n",
    "    print(\"14 to 30\")\n",
    "else :\n",
    "    print(x)\n"
   ]
  },
  {
   "cell_type": "markdown",
   "metadata": {},
   "source": [
    "# Detecting ranges with branches"
   ]
  },
  {
   "cell_type": "code",
   "execution_count": 14,
   "metadata": {},
   "outputs": [
    {
     "name": "stdout",
     "output_type": "stream",
     "text": [
      "Greater than 15\n"
     ]
    }
   ],
   "source": [
    "num = 16\n",
    "if num < 5:\n",
    "    print(\"Less than 5\")\n",
    "elif 5 <= num <= 15:\n",
    "    print(\"Between 5 and 15\")\n",
    "else:\n",
    "    print(\"Greater than 15\")\n"
   ]
  },
  {
   "cell_type": "code",
   "execution_count": 19,
   "metadata": {},
   "outputs": [
    {
     "name": "stdout",
     "output_type": "stream",
     "text": [
      "2\n"
     ]
    }
   ],
   "source": [
    "list1 = []\n",
    "list1.append(int(input('enter a num')))\n",
    "list1.append(int(input('enter a num')))\n",
    "list1.append(int(input('enter a num')))\n",
    "\n",
    "print(min(list1))"
   ]
  },
  {
   "cell_type": "code",
   "execution_count": null,
   "metadata": {},
   "outputs": [],
   "source": [
    "list1 = []\n",
    "num1 = input('Please inpu')"
   ]
  },
  {
   "cell_type": "code",
   "execution_count": 31,
   "metadata": {},
   "outputs": [
    {
     "name": "stdout",
     "output_type": "stream",
     "text": [
      "40 is the smallest number\n"
     ]
    }
   ],
   "source": [
    "\n",
    "num = input(\"Enter a number\")\n",
    "num = input(\"Enter a number\")\n",
    "num = input(\"Enter a number\")\n",
    "\n",
    "def add_num(num):\n",
    "    num.append(num)\n",
    "\n",
    "if min(num):\n",
    "    print(f'{num} is the smallest number')\n",
    "else:\n",
    "    print(f'{num} is not the smallest number')\n"
   ]
  },
  {
   "cell_type": "markdown",
   "metadata": {},
   "source": [
    "# Loops"
   ]
  },
  {
   "cell_type": "code",
   "execution_count": 8,
   "metadata": {},
   "outputs": [
    {
     "name": "stdout",
     "output_type": "stream",
     "text": [
      "Attempt 1 .\n",
      "Attempt 7 .......\n",
      "Attempt 13 .............\n",
      "Attempt 19 ...................\n"
     ]
    }
   ],
   "source": [
    "for number in range(1,25,6):\n",
    "    print(f'Attempt',number, (number)* \".\")"
   ]
  },
  {
   "cell_type": "code",
   "execution_count": 10,
   "metadata": {},
   "outputs": [
    {
     "name": "stdout",
     "output_type": "stream",
     "text": [
      "apple\n",
      "Hey\n"
     ]
    }
   ],
   "source": [
    "fruits = [\"apple\", \"banana\", \"cherry\"]\n",
    "for x in fruits:\n",
    " if x == \"banana\":\n",
    "  break \n",
    " print(x)\n",
    " print('Hey')\n"
   ]
  },
  {
   "cell_type": "code",
   "execution_count": 11,
   "metadata": {},
   "outputs": [
    {
     "name": "stdout",
     "output_type": "stream",
     "text": [
      "0\n",
      "1\n",
      "2\n"
     ]
    }
   ],
   "source": [
    "for x in range(6):\n",
    " if x == 3: break\n",
    " print(x)\n",
    "else:\n",
    " print(\"Finally finished!\")"
   ]
  },
  {
   "cell_type": "markdown",
   "metadata": {},
   "source": [
    "# NESTED FOR LOOP"
   ]
  },
  {
   "cell_type": "code",
   "execution_count": 6,
   "metadata": {},
   "outputs": [
    {
     "name": "stdout",
     "output_type": "stream",
     "text": [
      "red apple Mercedes\n",
      "red apple BMW\n",
      "red banana Mercedes\n",
      "red banana BMW\n",
      "red cherry Mercedes\n",
      "red cherry BMW\n",
      "big apple Mercedes\n",
      "big apple BMW\n",
      "big banana Mercedes\n",
      "big banana BMW\n",
      "big cherry Mercedes\n",
      "big cherry BMW\n",
      "tasty apple Mercedes\n",
      "tasty apple BMW\n",
      "tasty banana Mercedes\n",
      "tasty banana BMW\n",
      "tasty cherry Mercedes\n",
      "tasty cherry BMW\n",
      "black apple Mercedes\n",
      "black apple BMW\n",
      "black banana Mercedes\n",
      "black banana BMW\n",
      "black cherry Mercedes\n",
      "black cherry BMW\n"
     ]
    }
   ],
   "source": [
    "adj = [\"red\",\"big\",\"tasty\",\"black\"]\n",
    "fruits = [\"apple\", \"banana\", \"cherry\"]\n",
    "cars = [\"Mercedes\", \"BMW\"]\n",
    "\n",
    "for x in adj:\n",
    "    for y in fruits:\n",
    "      for z in cars:\n",
    "        print(x, y, z)"
   ]
  },
  {
   "cell_type": "code",
   "execution_count": 10,
   "metadata": {},
   "outputs": [
    {
     "name": "stdout",
     "output_type": "stream",
     "text": [
      "\n"
     ]
    },
    {
     "ename": "TypeError",
     "evalue": "greet() missing 1 required positional argument: 'last_name'",
     "output_type": "error",
     "traceback": [
      "\u001b[0;31m---------------------------------------------------------------------------\u001b[0m",
      "\u001b[0;31mTypeError\u001b[0m                                 Traceback (most recent call last)",
      "\u001b[1;32m/Users/footn1/Documents/CS 1301/untitled.ipynb Cell 49\u001b[0m line \u001b[0;36m6\n\u001b[1;32m      <a href='vscode-notebook-cell:/Users/footn1/Documents/CS%201301/untitled.ipynb#Y100sZmlsZQ%3D%3D?line=3'>4</a>\u001b[0m     greet(\u001b[39m\"\u001b[39m\u001b[39mJohn\u001b[39m\u001b[39m\"\u001b[39m, \u001b[39m\"\u001b[39m\u001b[39mSmith\u001b[39m\u001b[39m\"\u001b[39m)\n\u001b[1;32m      <a href='vscode-notebook-cell:/Users/footn1/Documents/CS%201301/untitled.ipynb#Y100sZmlsZQ%3D%3D?line=4'>5</a>\u001b[0m \u001b[39mprint\u001b[39m()\n\u001b[0;32m----> <a href='vscode-notebook-cell:/Users/footn1/Documents/CS%201301/untitled.ipynb#Y100sZmlsZQ%3D%3D?line=5'>6</a>\u001b[0m greet(\u001b[39m\"\u001b[39;49m\u001b[39mMarie\u001b[39;49m\u001b[39m\"\u001b[39;49m)\n",
      "\u001b[0;31mTypeError\u001b[0m: greet() missing 1 required positional argument: 'last_name'"
     ]
    }
   ],
   "source": [
    "def greet(first_name, last_name):\n",
    "    print(f\"Hello {first_name} {last_name}\")\n",
    "\n",
    "    greet(\"John\", \"Smith\")\n",
    "print()\n",
    "greet(\"Marie\")\n",
    "\n"
   ]
  },
  {
   "cell_type": "code",
   "execution_count": 1,
   "metadata": {},
   "outputs": [
    {
     "name": "stdout",
     "output_type": "stream",
     "text": [
      "HelloJack\n"
     ]
    }
   ],
   "source": [
    "def greet(first_name):\n",
    "    return f\"Hello{first_name}\"\n",
    "\n",
    "message = greet(\"Jack\")\n",
    "print(message)\n",
    "\n",
    "#1. perform task\n",
    "#2. returnm a value"
   ]
  },
  {
   "cell_type": "code",
   "execution_count": 3,
   "metadata": {},
   "outputs": [
    {
     "name": "stdout",
     "output_type": "stream",
     "text": [
      "120\n"
     ]
    }
   ],
   "source": [
    "def increment(number,by):\n",
    "    return number+by\n",
    "print(increment(20,100))"
   ]
  },
  {
   "cell_type": "code",
   "execution_count": 7,
   "metadata": {},
   "outputs": [
    {
     "name": "stdout",
     "output_type": "stream",
     "text": [
      "25\n"
     ]
    }
   ],
   "source": [
    "def increment(number, by = 1):\n",
    "    return number + by\n",
    "print(increment(20,5))"
   ]
  },
  {
   "cell_type": "code",
   "execution_count": null,
   "metadata": {},
   "outputs": [],
   "source": []
  }
 ],
 "metadata": {
  "kernelspec": {
   "display_name": "Python 3",
   "language": "python",
   "name": "python3"
  },
  "language_info": {
   "codemirror_mode": {
    "name": "ipython",
    "version": 3
   },
   "file_extension": ".py",
   "mimetype": "text/x-python",
   "name": "python",
   "nbconvert_exporter": "python",
   "pygments_lexer": "ipython3",
   "version": "3.11.5"
  },
  "orig_nbformat": 4
 },
 "nbformat": 4,
 "nbformat_minor": 2
}
