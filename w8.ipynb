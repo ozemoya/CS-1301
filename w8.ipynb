{
 "cells": [
  {
   "cell_type": "code",
   "execution_count": 1,
   "metadata": {},
   "outputs": [
    {
     "data": {
      "text/plain": [
       "['9.30am', '10.30pm']"
      ]
     },
     "execution_count": 1,
     "metadata": {},
     "output_type": "execute_result"
    }
   ],
   "source": [
    "s = \"9.30am:10.30pm\"\n",
    "s.split(\":\")"
   ]
  },
  {
   "cell_type": "code",
   "execution_count": 2,
   "metadata": {},
   "outputs": [
    {
     "name": "stdout",
     "output_type": "stream",
     "text": [
      "['Tony']\n"
     ]
    }
   ],
   "source": [
    "result = []\n",
    "result.append(\"Tony\")\n",
    "print(result)"
   ]
  },
  {
   "cell_type": "code",
   "execution_count": 3,
   "metadata": {},
   "outputs": [
    {
     "data": {
      "text/plain": [
       "[('A', 4), ('B', 3), ('C', 2), ('D', 1), ('F', 0)]"
      ]
     },
     "execution_count": 3,
     "metadata": {},
     "output_type": "execute_result"
    }
   ],
   "source": [
    "d = {\"A\": 4, \"B\":3, \"C\":2, \"D\":1, \"F\":0}\n",
    "list(d.items())"
   ]
  },
  {
   "cell_type": "code",
   "execution_count": 5,
   "metadata": {},
   "outputs": [
    {
     "name": "stdout",
     "output_type": "stream",
     "text": [
      "[1, 2, 3, 4] [1, 2, 3]\n"
     ]
    }
   ],
   "source": [
    "s1 = [1,2,3]\n",
    "s2 = [1,2,3]\n",
    "s1.append(4)\n",
    "print(s1,s2)"
   ]
  },
  {
   "cell_type": "code",
   "execution_count": 6,
   "metadata": {},
   "outputs": [
    {
     "name": "stdout",
     "output_type": "stream",
     "text": [
      "[1, 2, 3, 4] [1, 2, 3, 4]\n"
     ]
    }
   ],
   "source": [
    "s1 = [1,2,3]\n",
    "s2 = s1\n",
    "s1.append(4)\n",
    "print(s1,s2)"
   ]
  },
  {
   "cell_type": "code",
   "execution_count": 48,
   "metadata": {},
   "outputs": [],
   "source": [
    "class Student:\n",
    "\n",
    "    # constructor method\n",
    "    def __init__(self,n,m):\n",
    "        self.name = n\n",
    "        self.major = m\n",
    "        self.grades = []\n",
    "\n",
    "    # getter method\n",
    "    def get_name(self):\n",
    "        return self.name\n",
    "\n",
    "    # getter method\n",
    "    def get_major(self):\n",
    "        return self.major\n",
    "\n",
    "    # setter method\n",
    "    def set_major(self,m):\n",
    "        self.major = m\n",
    "    \n",
    "    # other method (can be called a modifier)\n",
    "    def add_grade(self,c,t,g):\n",
    "        self.grades.append((c,t,g))\n",
    "\n",
    "    def gpa(self):\n",
    "        num_grade = {\"A\": 4, \"B\":3, \"C\":2, \"D\":1, \"F\":0}\n",
    "        points = 0\n",
    "        credits = 0\n",
    "        for c in self.grades:\n",
    "            credits = credits + c[1]\n",
    "            points = points + c[1] * num_grade[c[2]]\n",
    "        if credits > 0:\n",
    "            return round(points/credits,2)\n",
    "        else:\n",
    "            return None\n",
    "    "
   ]
  },
  {
   "cell_type": "markdown",
   "metadata": {},
   "source": []
  },
  {
   "cell_type": "code",
   "execution_count": 49,
   "metadata": {},
   "outputs": [
    {
     "name": "stdout",
     "output_type": "stream",
     "text": [
      "John CSC []\n",
      "John\n"
     ]
    }
   ],
   "source": [
    "s5 = Student(\"John\",\"CSC\")\n",
    "print(s5.name,s5.major,s5.grades)\n",
    "print(s5.get_name())"
   ]
  },
  {
   "cell_type": "code",
   "execution_count": 50,
   "metadata": {},
   "outputs": [
    {
     "name": "stdout",
     "output_type": "stream",
     "text": [
      "Alice Math []\n",
      "Alice\n"
     ]
    }
   ],
   "source": [
    "s2 = Student(\"Alice\",\"Math\")\n",
    "print(s2.name,s2.major,s2.grades)\n",
    "print(s2.get_name())"
   ]
  },
  {
   "cell_type": "code",
   "execution_count": 51,
   "metadata": {},
   "outputs": [
    {
     "name": "stdout",
     "output_type": "stream",
     "text": [
      "CSC\n"
     ]
    }
   ],
   "source": [
    "s2.set_major(\"CSC\")\n",
    "print(s2.major)"
   ]
  },
  {
   "cell_type": "code",
   "execution_count": 52,
   "metadata": {},
   "outputs": [],
   "source": [
    "s5.add_grade(\"1301\",4,\"A\")\n",
    "s5.add_grade(\"1302\",4,\"A\")\n",
    "s5.add_grade(\"2510\",3,\"C\")"
   ]
  },
  {
   "cell_type": "code",
   "execution_count": 53,
   "metadata": {},
   "outputs": [
    {
     "name": "stdout",
     "output_type": "stream",
     "text": [
      "[('1301', 4, 'A'), ('1302', 4, 'A'), ('2510', 3, 'C')]\n",
      "[]\n"
     ]
    }
   ],
   "source": [
    "print(s5.grades)\n",
    "print(s2.grades)"
   ]
  },
  {
   "cell_type": "code",
   "execution_count": 54,
   "metadata": {},
   "outputs": [
    {
     "name": "stdout",
     "output_type": "stream",
     "text": [
      "3.45\n",
      "None\n"
     ]
    }
   ],
   "source": [
    "print(s5.gpa())\n",
    "print(s2.gpa())"
   ]
  },
  {
   "cell_type": "code",
   "execution_count": 39,
   "metadata": {},
   "outputs": [
    {
     "data": {
      "text/plain": [
       "3.4545454545454546"
      ]
     },
     "execution_count": 39,
     "metadata": {},
     "output_type": "execute_result"
    }
   ],
   "source": [
    "38/11"
   ]
  },
  {
   "cell_type": "code",
   "execution_count": null,
   "metadata": {},
   "outputs": [],
   "source": [
    "class Rational:\n",
    "\n",
    "    def __init__(self,n,d):\n",
    "        self.numerator = n\n",
    "        self.denominator = d\n",
    "        self.reduce()\n",
    "\n",
    "    def add(self,r):\n",
    "        num = self.numerator * r.denominator + self.denominator * r.numerator\n",
    "        den = self.denominator * r.denominator \n",
    "        return Rational(num,den)\n",
    "    # please write mul, div, minus methods\n",
    "    @staticmethod\n",
    "    def gcd(m,n): #assume m>= n\n",
    "        while n != 0:\n",
    "            r= m%n\n",
    "            m= n\n",
    "            n = r\n",
    "        return m\n",
    "    def reduce(self):\n",
    "        # if self.numerator > self.denominator:\n",
    "        #     g = gcd(self.numerator,self.denominator)\n",
    "        # else:\n",
    "        #     g= gcd(self.denominator, self.numerator)\n",
    "        g = Rational.gcd(self.numerator, self.denominator)\n",
    "        if g == 0:\n",
    "            return None\n",
    "        elif self.numerator < 0 and self.denominator < 0:\n",
    "            self.numerator = -self.numerator / g\n",
    "            self.denominator = -self.denominator / g\n",
    "        elif ... + num, -den\n",
    "        elif ... -num, +den\n",
    "        else: +num, +den\n",
    "    def __str__(self): #should return string version of the object\n",
    "        return str(self.numerator) + \"/\" + str(self.denominator)\n",
    "    "
   ]
  }
 ],
 "metadata": {
  "kernelspec": {
   "display_name": "Python 3.10.6 64-bit",
   "language": "python",
   "name": "python3"
  },
  "language_info": {
   "codemirror_mode": {
    "name": "ipython",
    "version": 3
   },
   "file_extension": ".py",
   "mimetype": "text/x-python",
   "name": "python",
   "nbconvert_exporter": "python",
   "pygments_lexer": "ipython3",
   "version": "3.11.5"
  },
  "orig_nbformat": 4,
  "vscode": {
   "interpreter": {
    "hash": "aee8b7b246df8f9039afb4144a1f6fd8d2ca17a180786b69acc140d282b71a49"
   }
  }
 },
 "nbformat": 4,
 "nbformat_minor": 2
}
