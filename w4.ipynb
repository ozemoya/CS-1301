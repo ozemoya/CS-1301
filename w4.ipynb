{
 "cells": [
  {
   "cell_type": "markdown",
   "metadata": {},
   "source": [
    "# SORTING"
   ]
  },
  {
   "cell_type": "code",
   "execution_count": 10,
   "metadata": {},
   "outputs": [
    {
     "name": "stdout",
     "output_type": "stream",
     "text": [
      "[10, 20, 30, 40, 60]\n"
     ]
    }
   ],
   "source": [
    "xs = [20,30,10,60,40]\n",
    "xs.sort()\n",
    "print(xs)\n"
   ]
  },
  {
   "cell_type": "code",
   "execution_count": 11,
   "metadata": {},
   "outputs": [
    {
     "name": "stdout",
     "output_type": "stream",
     "text": [
      "[20, 30, 10, 60, 40]\n",
      "[10, 20, 30, 40, 60]\n"
     ]
    }
   ],
   "source": [
    "ys = [20,30,10,60,40]\n",
    "ss = sorted(xs)\n",
    "print(ys)\n",
    "print(ss)"
   ]
  },
  {
   "cell_type": "code",
   "execution_count": 12,
   "metadata": {},
   "outputs": [
    {
     "name": "stdout",
     "output_type": "stream",
     "text": [
      "['John', 'Alice', 'Howard']\n",
      "['Alice', 'Howard', 'John']\n"
     ]
    }
   ],
   "source": [
    "zs = [\"John\", \"Alice\", \"Howard\"]\n",
    "szs = sorted(zs)\n",
    "print (zs)\n",
    "print(szs)"
   ]
  },
  {
   "cell_type": "code",
   "execution_count": 14,
   "metadata": {},
   "outputs": [
    {
     "name": "stdout",
     "output_type": "stream",
     "text": [
      "[('CLE', 9, 0.867), ('ATL', 6, 0.667), ('ARI', 8, 0.555)]\n"
     ]
    }
   ],
   "source": [
    "sdata = [('ATL',6,0.667), ('ARI',8,0.555),('CLE',9,0.867)]\n",
    "ss = sorted(sdata, key = lambda x: x[2], reverse=True)\n",
    "print(ss)"
   ]
  },
  {
   "cell_type": "code",
   "execution_count": 15,
   "metadata": {},
   "outputs": [
    {
     "name": "stdout",
     "output_type": "stream",
     "text": [
      "[('ARI', 8, 0.555), ('ATL', 6, 0.667), ('CLE', 9, 0.867)]\n"
     ]
    }
   ],
   "source": [
    "sdata = [('ATL',6,0.667), ('ARI',8,0.555),('CLE',9,0.867)]\n",
    "ss = sorted(sdata)# sorts by default on first component of tuple\n",
    "print(ss)"
   ]
  },
  {
   "cell_type": "code",
   "execution_count": null,
   "metadata": {},
   "outputs": [],
   "source": [
    "sdata = [('ATL',6,0.667), ('ARI',8,0.555),('CLE',9,0.867)]\n",
    "ss = sorted(sdata, key=lambda x: x[2])\n",
    "print(ss)"
   ]
  },
  {
   "cell_type": "markdown",
   "metadata": {},
   "source": [
    "# WHILE LOOP"
   ]
  },
  {
   "cell_type": "code",
   "execution_count": 17,
   "metadata": {},
   "outputs": [
    {
     "name": "stdout",
     "output_type": "stream",
     "text": [
      "Done\n"
     ]
    }
   ],
   "source": [
    "while True:\n",
    " x = input(\"Enter a command: \")\n",
    " if x == 'q':\n",
    "    break\n",
    "else:\n",
    "  print(\"You entered\",x)\n",
    "print(\"Done\")"
   ]
  },
  {
   "cell_type": "markdown",
   "metadata": {},
   "source": [
    "# FORMATTED PRINT"
   ]
  },
  {
   "cell_type": "code",
   "execution_count": 41,
   "metadata": {},
   "outputs": [
    {
     "name": "stdout",
     "output_type": "stream",
     "text": [
      "x   Charlesx 34  x62.33 x\n"
     ]
    }
   ],
   "source": [
    "print(\"x{:>10s}x{:^5d}x{:<6.2f}x\".format(\"Charles\",34,62.33))"
   ]
  },
  {
   "cell_type": "markdown",
   "metadata": {},
   "source": [
    "# ENUMERATED FOR-LOOP"
   ]
  },
  {
   "cell_type": "code",
   "execution_count": 45,
   "metadata": {},
   "outputs": [
    {
     "name": "stdout",
     "output_type": "stream",
     "text": [
      "John\n",
      "Alice\n",
      "Howard\n"
     ]
    }
   ],
   "source": [
    "xs = [\"John\",\"Alice\",\"Howard\"]\n",
    "for i in range(len(xs)):\n",
    "    print(xs[i])"
   ]
  },
  {
   "cell_type": "code",
   "execution_count": 46,
   "metadata": {},
   "outputs": [
    {
     "name": "stdout",
     "output_type": "stream",
     "text": [
      "0 John\n",
      "1 Alice\n",
      "2 Howard\n"
     ]
    }
   ],
   "source": [
    "xs = [\"John\",\"Alice\",\"Howard\"]\n",
    "for (i,x) in enumerate(xs):\n",
    "    print(i,x)"
   ]
  },
  {
   "cell_type": "code",
   "execution_count": 47,
   "metadata": {},
   "outputs": [
    {
     "data": {
      "text/plain": [
       "[(0, 'John'), (1, 'Alice'), (2, 'Howard')]"
      ]
     },
     "execution_count": 47,
     "metadata": {},
     "output_type": "execute_result"
    }
   ],
   "source": [
    "xs = [\"John\",\"Alice\",\"Howard\"]\n",
    "list(enumerate(xs))"
   ]
  },
  {
   "cell_type": "markdown",
   "metadata": {},
   "source": [
    "# RANGE"
   ]
  },
  {
   "cell_type": "code",
   "execution_count": 43,
   "metadata": {},
   "outputs": [
    {
     "name": "stdout",
     "output_type": "stream",
     "text": [
      "0\n",
      "1\n",
      "2\n",
      "3\n",
      "4\n"
     ]
    }
   ],
   "source": [
    "for x in range(5):\n",
    "    print(x)"
   ]
  },
  {
   "cell_type": "code",
   "execution_count": null,
   "metadata": {},
   "outputs": [],
   "source": [
    "for x in range(10,20,2):\n",
    "    print(x)"
   ]
  },
  {
   "cell_type": "code",
   "execution_count": null,
   "metadata": {},
   "outputs": [],
   "source": [
    "list(range)"
   ]
  },
  {
   "cell_type": "markdown",
   "metadata": {},
   "source": [
    "### zip\n"
   ]
  },
  {
   "cell_type": "code",
   "execution_count": 48,
   "metadata": {},
   "outputs": [
    {
     "data": {
      "text/plain": [
       "[(1, 'John'), (2, 'Alice'), (3, 'Howard'), (4, 'Tom')]"
      ]
     },
     "execution_count": 48,
     "metadata": {},
     "output_type": "execute_result"
    }
   ],
   "source": [
    "xs = [1,2,3,4]\n",
    "ys = [\"John\", \"Alice\",\"Howard\",\"Tom\"]\n",
    "list(zip(xs,ys))"
   ]
  },
  {
   "cell_type": "code",
   "execution_count": 49,
   "metadata": {},
   "outputs": [],
   "source": [
    "x1 = list(range(5))\n",
    "x2 = list(range(10,15))\n",
    "x3 = list(range(110,115))\n",
    "list(zip(x1,x2,x3))"
   ]
  },
  {
   "cell_type": "markdown",
   "metadata": {},
   "source": [
    "# Nested if-else statements\n"
   ]
  },
  {
   "cell_type": "code",
   "execution_count": null,
   "metadata": {},
   "outputs": [],
   "source": [
    "user_choice =  # Hardcoded values for this tool. Could be input()...\n",
    "num_items = 5\n",
    "if user_choice == 1:    \n",
    "\tprint('user_choice is 1')\n",
    "elif user_choice == 2:\t   \n",
    "    if num_items < 0:\n",
    "\t    print('user_choice is 2 and num_items < 0')\n",
    "else:\n",
    "\t    print('user_choice is 2 and num_items >= 0')\n",
    "else:\n",
    "print('user_choice is neither 1 or 2')"
   ]
  }
 ],
 "metadata": {
  "kernelspec": {
   "display_name": "Python 3",
   "language": "python",
   "name": "python3"
  },
  "language_info": {
   "codemirror_mode": {
    "name": "ipython",
    "version": 3
   },
   "file_extension": ".py",
   "mimetype": "text/x-python",
   "name": "python",
   "nbconvert_exporter": "python",
   "pygments_lexer": "ipython3",
   "version": "3.11.5"
  },
  "orig_nbformat": 4
 },
 "nbformat": 4,
 "nbformat_minor": 2
}
