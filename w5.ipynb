{
 "cells": [
  {
   "cell_type": "code",
   "execution_count": 4,
   "metadata": {},
   "outputs": [],
   "source": [
    "d = {\n",
    "    \"ATL\":{\"wins\": 5, \"losses\": 3, \"ties\":0},\n",
    "    \"CHC\": {\"wins\": 7, \"losses\":2, \"ties\": 1 },\n",
    "}"
   ]
  },
  {
   "cell_type": "code",
   "execution_count": 7,
   "metadata": {},
   "outputs": [
    {
     "data": {
      "text/plain": [
       "6"
      ]
     },
     "execution_count": 7,
     "metadata": {},
     "output_type": "execute_result"
    }
   ],
   "source": [
    "d[\"ATL\"][\"wins\"] "
   ]
  },
  {
   "cell_type": "code",
   "execution_count": null,
   "metadata": {},
   "outputs": [],
   "source": [
    "d[\"ATL\"][\"wins\"] = 6"
   ]
  },
  {
   "cell_type": "code",
   "execution_count": 8,
   "metadata": {},
   "outputs": [],
   "source": [
    "d[\"ATL\"][\"wins\"] = d[\"ATL\"][\"wins\"] + 1"
   ]
  },
  {
   "cell_type": "code",
   "execution_count": 9,
   "metadata": {},
   "outputs": [
    {
     "data": {
      "text/plain": [
       "{'ATL': {'wins': 7, 'losses': 3, 'ties': 0},\n",
       " 'CHC': {'wins': 7, 'losses': 2, 'ties': 1}}"
      ]
     },
     "execution_count": 9,
     "metadata": {},
     "output_type": "execute_result"
    }
   ],
   "source": [
    "d"
   ]
  },
  {
   "cell_type": "code",
   "execution_count": 10,
   "metadata": {},
   "outputs": [
    {
     "name": "stdout",
     "output_type": "stream",
     "text": [
      "6\n"
     ]
    }
   ],
   "source": [
    "x = 5\n",
    "x = x + 1\n",
    "print(x)"
   ]
  },
  {
   "cell_type": "code",
   "execution_count": 18,
   "metadata": {},
   "outputs": [],
   "source": [
    "p1_str = \"4:3, 2:1 -3,0\" # string representation of polynomial \n",
    "p1_list = [(4,3),(2,3),-3,0]\n",
    "p1_dict = {3:4, 2:3, -3:0}"
   ]
  },
  {
   "cell_type": "code",
   "execution_count": 37,
   "metadata": {},
   "outputs": [],
   "source": [
    "def convert_str_list(s):\n",
    "    pass\n",
    "\n",
    "def convert_list_str(xs):\n",
    "    pass\n",
    "# s = \"4:3,2:1,-3:0\"\n",
    "def convert_str_dict(s):\n",
    "    d = {}\n",
    "    xs = s.split(\",\") \n",
    "    for x in xs:\n",
    "        ys = x.split(\":\")\n",
    "    if int(ys[1]) not in d:\n",
    "        d[(ys[1])] = int(ys[0])\n",
    "    else:\n",
    "         d[int(ys[1])] = int(ys[1]) + int(ys[0])\n",
    "    return d\n",
    "# 6 of these functions"
   ]
  },
  {
   "cell_type": "code",
   "execution_count": 1,
   "metadata": {},
   "outputs": [
    {
     "ename": "NameError",
     "evalue": "name 'convert_str_dict' is not defined",
     "output_type": "error",
     "traceback": [
      "\u001b[0;31m---------------------------------------------------------------------------\u001b[0m",
      "\u001b[0;31mNameError\u001b[0m                                 Traceback (most recent call last)",
      "\u001b[1;32m/Users/footn1/Documents/CS 1301/w5.ipynb Cell 9\u001b[0m line \u001b[0;36m1\n\u001b[0;32m----> <a href='vscode-notebook-cell:/Users/footn1/Documents/CS%201301/w5.ipynb#X11sZmlsZQ%3D%3D?line=0'>1</a>\u001b[0m convert_str_dict(\u001b[39m\"\u001b[39m\u001b[39m4:3, 2:1, -3:0, 10:3, 20:3 40:3\u001b[39m\u001b[39m\"\u001b[39m)\n",
      "\u001b[0;31mNameError\u001b[0m: name 'convert_str_dict' is not defined"
     ]
    }
   ],
   "source": [
    "convert_str_dict(\"4:3, 2:1, -3:0, 10:3, 20:3 40:3\")"
   ]
  }
 ],
 "metadata": {
  "kernelspec": {
   "display_name": "Python 3",
   "language": "python",
   "name": "python3"
  },
  "language_info": {
   "codemirror_mode": {
    "name": "ipython",
    "version": 3
   },
   "file_extension": ".py",
   "mimetype": "text/x-python",
   "name": "python",
   "nbconvert_exporter": "python",
   "pygments_lexer": "ipython3",
   "version": "3.11.5"
  },
  "orig_nbformat": 4
 },
 "nbformat": 4,
 "nbformat_minor": 2
}
