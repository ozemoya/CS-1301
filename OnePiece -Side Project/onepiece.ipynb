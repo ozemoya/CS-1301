{
 "cells": [
  {
   "cell_type": "code",
   "execution_count": 6,
   "metadata": {},
   "outputs": [],
   "source": [
    "import sys\n"
   ]
  },
  {
   "cell_type": "code",
   "execution_count": 7,
   "metadata": {},
   "outputs": [],
   "source": [
    "import sys\n",
    "\n",
    "if len(sys.argv) > 1:\n",
    "    tname = sys.argv[1]\n",
    "    gname = sys.argv[1]\n",
    "\n",
    "else:\n",
    "    \n",
    "    oname = \"onepiece.dat\""
   ]
  },
  {
   "cell_type": "code",
   "execution_count": 9,
   "metadata": {},
   "outputs": [
    {
     "ename": "AttributeError",
     "evalue": "'dict' object has no attribute 'append'",
     "output_type": "error",
     "traceback": [
      "\u001b[0;31m---------------------------------------------------------------------------\u001b[0m",
      "\u001b[0;31mAttributeError\u001b[0m                            Traceback (most recent call last)",
      "\u001b[1;32m/Users/footn1/Documents/CS 1301/OnePiece -Side Project/onepiece.ipynb Cell 3\u001b[0m line \u001b[0;36m8\n\u001b[1;32m      <a href='vscode-notebook-cell:/Users/footn1/Documents/CS%201301/OnePiece%20-Side%20Project/onepiece.ipynb#W1sZmlsZQ%3D%3D?line=5'>6</a>\u001b[0m         pirates\u001b[39m.\u001b[39mappend((pirate, crew, Beri, df, Status))\n\u001b[1;32m      <a href='vscode-notebook-cell:/Users/footn1/Documents/CS%201301/OnePiece%20-Side%20Project/onepiece.ipynb#W1sZmlsZQ%3D%3D?line=6'>7</a>\u001b[0m         data \u001b[39m=\u001b[39m f\u001b[39m.\u001b[39mread()\u001b[39m.\u001b[39msplitlines()\n\u001b[0;32m----> <a href='vscode-notebook-cell:/Users/footn1/Documents/CS%201301/OnePiece%20-Side%20Project/onepiece.ipynb#W1sZmlsZQ%3D%3D?line=7'>8</a>\u001b[0m read_data(\u001b[39m\"\u001b[39;49m\u001b[39monepiece.dat\u001b[39;49m\u001b[39m\"\u001b[39;49m)\n",
      "\u001b[1;32m/Users/footn1/Documents/CS 1301/OnePiece -Side Project/onepiece.ipynb Cell 3\u001b[0m line \u001b[0;36m6\n\u001b[1;32m      <a href='vscode-notebook-cell:/Users/footn1/Documents/CS%201301/OnePiece%20-Side%20Project/onepiece.ipynb#W1sZmlsZQ%3D%3D?line=3'>4</a>\u001b[0m \u001b[39mfor\u001b[39;00m line \u001b[39min\u001b[39;00m f:\n\u001b[1;32m      <a href='vscode-notebook-cell:/Users/footn1/Documents/CS%201301/OnePiece%20-Side%20Project/onepiece.ipynb#W1sZmlsZQ%3D%3D?line=4'>5</a>\u001b[0m      pirate, crew, Beri, df, Status \u001b[39m=\u001b[39m line\u001b[39m.\u001b[39mstrip()\u001b[39m.\u001b[39msplit(\u001b[39m'\u001b[39m\u001b[39m:\u001b[39m\u001b[39m'\u001b[39m)\n\u001b[0;32m----> <a href='vscode-notebook-cell:/Users/footn1/Documents/CS%201301/OnePiece%20-Side%20Project/onepiece.ipynb#W1sZmlsZQ%3D%3D?line=5'>6</a>\u001b[0m pirates\u001b[39m.\u001b[39;49mappend((pirate, crew, Beri, df, Status))\n\u001b[1;32m      <a href='vscode-notebook-cell:/Users/footn1/Documents/CS%201301/OnePiece%20-Side%20Project/onepiece.ipynb#W1sZmlsZQ%3D%3D?line=6'>7</a>\u001b[0m data \u001b[39m=\u001b[39m f\u001b[39m.\u001b[39mread()\u001b[39m.\u001b[39msplitlines()\n",
      "\u001b[0;31mAttributeError\u001b[0m: 'dict' object has no attribute 'append'"
     ]
    }
   ],
   "source": [
    "def read_data(oname):\n",
    "    pirates = {}\n",
    "    with open(oname, \"r\") as f:\n",
    "        for line in f:\n",
    "             pirate, crew, Beri, df, Status = line.strip().split(':')\n",
    "        pirates.append((pirate, crew, Beri, df, Status))\n",
    "        data = f.read().splitlines()\n",
    "read_data(\"onepiece.dat\")"
   ]
  }
 ],
 "metadata": {
  "kernelspec": {
   "display_name": "Python 3",
   "language": "python",
   "name": "python3"
  },
  "language_info": {
   "codemirror_mode": {
    "name": "ipython",
    "version": 3
   },
   "file_extension": ".py",
   "mimetype": "text/x-python",
   "name": "python",
   "nbconvert_exporter": "python",
   "pygments_lexer": "ipython3",
   "version": "3.11.5"
  },
  "orig_nbformat": 4
 },
 "nbformat": 4,
 "nbformat_minor": 2
}
