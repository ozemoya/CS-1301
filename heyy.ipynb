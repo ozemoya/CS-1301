{
 "cells": [
  {
   "cell_type": "code",
   "execution_count": 2,
   "metadata": {},
   "outputs": [
    {
     "ename": "ValueError",
     "evalue": "invalid literal for int() with base 10: 'hi'",
     "output_type": "error",
     "traceback": [
      "\u001b[0;31m---------------------------------------------------------------------------\u001b[0m",
      "\u001b[0;31mValueError\u001b[0m                                Traceback (most recent call last)",
      "\u001b[1;32m/Users/footn1/Documents/CS 1301/heyy.ipynb Cell 1\u001b[0m line \u001b[0;36m6\n\u001b[1;32m      <a href='vscode-notebook-cell:/Users/footn1/Documents/CS%201301/heyy.ipynb#W0sZmlsZQ%3D%3D?line=3'>4</a>\u001b[0m \u001b[39m# Prompt the user to enter the year, make, and model of their vehicle\u001b[39;00m\n\u001b[1;32m      <a href='vscode-notebook-cell:/Users/footn1/Documents/CS%201301/heyy.ipynb#W0sZmlsZQ%3D%3D?line=4'>5</a>\u001b[0m year \u001b[39m=\u001b[39m \u001b[39mint\u001b[39m(\u001b[39minput\u001b[39m(\u001b[39m'\u001b[39m\u001b[39mPlease enter the model year of your vehicle: \u001b[39m\u001b[39m'\u001b[39m))\n\u001b[0;32m----> <a href='vscode-notebook-cell:/Users/footn1/Documents/CS%201301/heyy.ipynb#W0sZmlsZQ%3D%3D?line=5'>6</a>\u001b[0m make \u001b[39m=\u001b[39m \u001b[39mint\u001b[39;49m(\u001b[39minput\u001b[39;49m(\u001b[39m'\u001b[39;49m\u001b[39mPlease enter the maker of your vehicle: \u001b[39;49m\u001b[39m'\u001b[39;49m))  \u001b[39m# Changed int to input\u001b[39;00m\n\u001b[1;32m      <a href='vscode-notebook-cell:/Users/footn1/Documents/CS%201301/heyy.ipynb#W0sZmlsZQ%3D%3D?line=6'>7</a>\u001b[0m model \u001b[39m=\u001b[39m \u001b[39minput\u001b[39m(\u001b[39m'\u001b[39m\u001b[39mPlease enter the model of your vehicle: \u001b[39m\u001b[39m'\u001b[39m)\n\u001b[1;32m      <a href='vscode-notebook-cell:/Users/footn1/Documents/CS%201301/heyy.ipynb#W0sZmlsZQ%3D%3D?line=8'>9</a>\u001b[0m \u001b[39m# Generate the 3-letter prefix: Can be A-Z\u001b[39;00m\n",
      "\u001b[0;31mValueError\u001b[0m: invalid literal for int() with base 10: 'hi'"
     ]
    }
   ],
   "source": [
    "# Import the random module\n",
    "import random\n",
    "\n",
    "# Prompt the user to enter the year, make, and model of their vehicle\n",
    "year = int(input('Please enter the model year of your vehicle: '))\n",
    "make = int(input('Please enter the maker of your vehicle: '))  # Changed int to input\n",
    "model = input('Please enter the model of your vehicle: ')\n",
    "\n",
    "# Generate the 3-letter prefix: Can be A-Z\n",
    "letter_a = chr(random.randint(65, 90))\n",
    "letter_b = chr(random.randint(65, 90))\n",
    "letter_c = chr(random.randint(65, 90))\n",
    "\n",
    "# Generate the 4-digit number for the License plate\n",
    "digits = random.randint(1000, 9999)\n",
    "license_plate = letter_a + letter_b + letter_c + digits  # Convert digits to string\n",
    "\n",
    "car = {\n",
    "    'Year': year,\n",
    "    'Make': make,\n",
    "    'Model': model,\n",
    "    'Plate': license_plate\n",
    "}\n",
    "\n",
    "print(f'The license plate for your {car[\"Year\"]} {car[\"Make\"]} {car[\"Model\"]} is {car[\"Plate\"]}')\n"
   ]
  }
 ],
 "metadata": {
  "kernelspec": {
   "display_name": "Python 3",
   "language": "python",
   "name": "python3"
  },
  "language_info": {
   "codemirror_mode": {
    "name": "ipython",
    "version": 3
   },
   "file_extension": ".py",
   "mimetype": "text/x-python",
   "name": "python",
   "nbconvert_exporter": "python",
   "pygments_lexer": "ipython3",
   "version": "3.11.5"
  },
  "orig_nbformat": 4
 },
 "nbformat": 4,
 "nbformat_minor": 2
}
